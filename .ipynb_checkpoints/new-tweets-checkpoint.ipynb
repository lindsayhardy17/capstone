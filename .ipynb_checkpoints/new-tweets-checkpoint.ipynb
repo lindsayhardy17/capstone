{
 "cells": [
  {
   "cell_type": "markdown",
   "metadata": {},
   "source": [
    "## Import, upload, and create functions\n",
    "In this file we walk through the steps to forming the tweets from out json files into dataframes"
   ]
  },
  {
   "cell_type": "code",
   "execution_count": 1,
   "metadata": {},
   "outputs": [
    {
     "name": "stdout",
     "output_type": "stream",
     "text": [
      "python: can't open file 'setup.py': [Errno 2] No such file or directory\r\n"
     ]
    }
   ],
   "source": [
    "#In order to run Carmen, which is location application that we use to look at the location elements of the tweet that \n",
    "#are not readily apprent in the json. To use Carmen we have to first import this file.\n",
    "import sys\n",
    "!python setup.py install "
   ]
  },
  {
   "cell_type": "code",
   "execution_count": 2,
   "metadata": {},
   "outputs": [
    {
     "name": "stderr",
     "output_type": "stream",
     "text": [
      "/Users/samantharothman/opt/anaconda3/lib/python3.7/site-packages/carmen-0.0.4-py3.7.egg/carmen/resolvers/profile.py:42: UserWarning: Duplicate location name \"amman  jordan\"\n",
      "/Users/samantharothman/opt/anaconda3/lib/python3.7/site-packages/carmen-0.0.4-py3.7.egg/carmen/resolvers/profile.py:42: UserWarning: Duplicate location name \"amman jordan\"\n",
      "/Users/samantharothman/opt/anaconda3/lib/python3.7/site-packages/carmen-0.0.4-py3.7.egg/carmen/resolvers/profile.py:42: UserWarning: Duplicate location name \"st joseph county united states\"\n",
      "/Users/samantharothman/opt/anaconda3/lib/python3.7/site-packages/carmen-0.0.4-py3.7.egg/carmen/resolvers/profile.py:42: UserWarning: Duplicate location name \"st tammany parish united states\"\n"
     ]
    }
   ],
   "source": [
    "#import numpy and then import carmen\n",
    "import numpy as np\n",
    "import carmen\n",
    "#these are two commands that are needed to start carmen\n",
    "resolver = carmen.get_resolver()\n",
    "resolver.load_locations()"
   ]
  },
  {
   "cell_type": "markdown",
   "metadata": {},
   "source": [
    "Now we create a function to select the specific elements from the JSON that we need, as well as using Carmen in this function as well."
   ]
  },
  {
   "cell_type": "code",
   "execution_count": 3,
   "metadata": {},
   "outputs": [],
   "source": [
    "def flatten_tweets(tweets):\n",
    "    \"\"\" Flattens out tweet dictionaries so relevant JSON is \n",
    "        in a top-level dictionary. \"\"\"\n",
    "    \n",
    "    tweets_list = []\n",
    "    # Iterate through each tweet\n",
    "    for tweet_obj in tweets:\n",
    "        tweet_obj = json.loads(tweet_obj)\n",
    "        ''' User info'''\n",
    "        # Store the user screen name in 'user-screen_name'\n",
    "        tweet_obj['user-screen_name'] = tweet_obj['user']['screen_name']\n",
    "        \n",
    "        # Store the user location\n",
    "        tweet_obj['user-location'] = tweet_obj['user']['location']\n",
    "        \n",
    "        # Store number of retweets\n",
    "        tweet_obj['retweet_number'] = tweet_obj['retweet_count']\n",
    "        \n",
    "        # Store number of favorites\n",
    "        tweet_obj['favorite_number'] = tweet_obj['favorite_count']\n",
    "        \n",
    "        # Store hashtags\n",
    "        if len(tweet_obj['entities']['hashtags']) != 0:\n",
    "            tweet_obj['hashtags'] = []\n",
    "            for x in range(len(tweet_obj['entities']['hashtags'])):\n",
    "                tweet_obj['hashtags'].append(tweet_obj['entities']['hashtags'][x]['text']) \n",
    "        if len(tweet_obj['entities']['hashtags']) == 0:\n",
    "            tweet_obj['hashtags'] = 'None'\n",
    "        \n",
    "        # Store data\n",
    "        tweet_obj['date'] = tweet_obj['created_at']\n",
    "        \n",
    "        #new location\n",
    "        tweet_obj['location1'] = resolver.resolve_tweet(tweet_obj)\n",
    "    \n",
    "        ''' Text info'''\n",
    "        # Check if this is a 140+ character tweet\n",
    "        if 'extended_tweet' in tweet_obj:\n",
    "            # Store the extended tweet text in 'extended_tweet-full_text'\n",
    "            tweet_obj['extended_tweet-full_text'] = \\\n",
    "                                    tweet_obj['extended_tweet']['full_text']\n",
    "        if 'quoted_status' in tweet_obj:\n",
    "            # Store the retweet user screen name in \n",
    "            #'retweeted_status-user-screen_name'\n",
    "            tweet_obj['quoted_status-user-screen_name'] = \\\n",
    "                            tweet_obj['quoted_status']['user']['screen_name']\n",
    "\n",
    "            # Store the retweet text in 'retweeted_status-text'\n",
    "            tweet_obj['quoted_status-text'] = \\\n",
    "                                            tweet_obj['quoted_status']['text']\n",
    "    \n",
    "            if 'extended_tweet' in tweet_obj['quoted_status']:\n",
    "                # Store the extended retweet text in \n",
    "                #'retweeted_status-extended_tweet-full_text'\n",
    "                tweet_obj['quoted_status-extended_tweet-full_text'] = \\\n",
    "                    tweet_obj['quoted_status']['extended_tweet']['full_text']\n",
    "        \n",
    "        ''' Place info'''\n",
    "        if 'place' in tweet_obj:\n",
    "            # Store the country code in 'place-country_code'\n",
    "            try:\n",
    "                tweet_obj['place-country'] = \\\n",
    "                                            tweet_obj['place']['country']\n",
    "                \n",
    "                tweet_obj['place-country_code'] = \\\n",
    "                                            tweet_obj['place']['country_code']\n",
    "                \n",
    "                tweet_obj['location-coordinates'] = \\\n",
    "                            tweet_obj['place']['bounding_box']['coordinates']\n",
    "            except: pass\n",
    "        \n",
    "        tweets_list.append(tweet_obj)\n",
    "        \n",
    "    return tweets_list"
   ]
  },
  {
   "cell_type": "code",
   "execution_count": 5,
   "metadata": {},
   "outputs": [],
   "source": [
    "#import json so that we can open the json file\n",
    "import json\n",
    "f = open('tweets.json')\n",
    "tweets = f.readlines()"
   ]
  },
  {
   "cell_type": "code",
   "execution_count": null,
   "metadata": {},
   "outputs": [],
   "source": [
    "import pandas as pd\n",
    "\n",
    "# flatten tweets\n",
    "tweets1 = flatten_tweets(tweets)\n",
    "\n",
    "#here we create a list of the columns that we created above and designate these as the ones that we want in our datframe\n",
    "columns = ['text', 'lang', 'user-location', 'place-country', \n",
    "           'place-country_code', 'location-coordinates', \n",
    "           'user-screen_name', 'retweet_number','hashtags','date', 'location1']\n",
    "# Create a DataFrame from `tweets`\n",
    "df_tweets = pd.DataFrame(tweets1, columns=columns)\n",
    "df_tweets.head()"
   ]
  },
  {
   "cell_type": "markdown",
   "metadata": {},
   "source": [
    "## Clean the dataframe\n",
    "After we create this dataframe it is time to start parsing the locations so we can determine exactly where the tweets are from which will help us in the sorting process.\n",
    "\n",
    "The first step is to sort through what Carmen created, we labeled this column as location1"
   ]
  },
  {
   "cell_type": "code",
   "execution_count": 8,
   "metadata": {},
   "outputs": [
    {
     "data": {
      "text/plain": [
       "NoneType"
      ]
     },
     "execution_count": 8,
     "metadata": {},
     "output_type": "execute_result"
    }
   ],
   "source": [
    "#Carmen when it doesn't find a location for a value it labels it as None, we tried to sort out the values\n",
    "#using the original keyword none, but for some reason this didn't work, so we instead turned to just using the \n",
    "#designated type for None which we've created a variable for here\n",
    "none = type(None)"
   ]
  },
  {
   "cell_type": "code",
   "execution_count": 11,
   "metadata": {},
   "outputs": [
    {
     "name": "stderr",
     "output_type": "stream",
     "text": [
      "<ipython-input-11-cbd001856326>:9: SettingWithCopyWarning: \n",
      "A value is trying to be set on a copy of a slice from a DataFrame.\n",
      "Try using .loc[row_indexer,col_indexer] = value instead\n",
      "\n",
      "See the caveats in the documentation: https://pandas.pydata.org/pandas-docs/stable/user_guide/indexing.html#returning-a-view-versus-a-copy\n",
      "  use['city'] = use.apply(lambda row: city(row['location2']),axis=1)\n"
     ]
    }
   ],
   "source": [
    "#after creating that designated None value we can now create a function to find the city name if there is one\n",
    "def city(place):\n",
    "    #if there is some information about the place continue\n",
    "    if type(place) != none:\n",
    "        #if there is a city value return the city\n",
    "        if place[1].city != '':\n",
    "            return place[1].city\n",
    "        #else return no\n",
    "        else:\n",
    "            return 'no'\n",
    "    #else return no\n",
    "    else:\n",
    "        return 'no'\n",
    "#apply the function and store the new value in the column city\n",
    "df_tweets['city'] = df_tweets.apply(lambda row: city(row['location1']),axis=1)"
   ]
  },
  {
   "cell_type": "code",
   "execution_count": 12,
   "metadata": {},
   "outputs": [
    {
     "name": "stderr",
     "output_type": "stream",
     "text": [
      "<ipython-input-12-6382041f244f>:9: SettingWithCopyWarning: \n",
      "A value is trying to be set on a copy of a slice from a DataFrame.\n",
      "Try using .loc[row_indexer,col_indexer] = value instead\n",
      "\n",
      "See the caveats in the documentation: https://pandas.pydata.org/pandas-docs/stable/user_guide/indexing.html#returning-a-view-versus-a-copy\n",
      "  use['state'] = use.apply(lambda row: state(row['location2']),axis=1)\n"
     ]
    }
   ],
   "source": [
    "#after creating that designated None value we can now create a function to find the state name if there is one\n",
    "def state(place):\n",
    "    #if there is some information about the place continue\n",
    "    if type(place) != none:\n",
    "        #if there is state return the state value\n",
    "        if place[1].state != '':\n",
    "            return place[1].state\n",
    "        #else return no\n",
    "        else:\n",
    "            return 'no'\n",
    "    #else return no\n",
    "    else:\n",
    "        return 'no'\n",
    "#apply the function and store the new value in the column state\n",
    "use['state'] = use.apply(lambda row: state(row['location1']),axis=1)"
   ]
  },
  {
   "cell_type": "code",
   "execution_count": 14,
   "metadata": {},
   "outputs": [
    {
     "data": {
      "text/plain": [
       "Int64Index([   12,   159,  4896,  5105,  5641,  5642,  5719,  5724,  5725,\n",
       "             5726,\n",
       "            ...\n",
       "            18581, 18582, 18583, 18584, 18585, 18586, 18587, 18588, 18589,\n",
       "            18590],\n",
       "           dtype='int64', length=3305)"
      ]
     },
     "execution_count": 14,
     "metadata": {},
     "output_type": "execute_result"
    }
   ],
   "source": [
    "#now we look at the tweets that Carmen didn't pick up because they were stored in the user created location\n",
    "#and get their index\n",
    "where = df_tweets[(use['user-location'] != '') & (use['city'] == 'no')]['user-location'].index\n",
    "where"
   ]
  },
  {
   "cell_type": "code",
   "execution_count": 15,
   "metadata": {},
   "outputs": [
    {
     "name": "stderr",
     "output_type": "stream",
     "text": [
      "/opt/conda/lib/python3.8/site-packages/pandas/core/indexing.py:1765: SettingWithCopyWarning: \n",
      "A value is trying to be set on a copy of a slice from a DataFrame.\n",
      "Try using .loc[row_indexer,col_indexer] = value instead\n",
      "\n",
      "See the caveats in the documentation: https://pandas.pydata.org/pandas-docs/stable/user_guide/indexing.html#returning-a-view-versus-a-copy\n",
      "  isetter(loc, value)\n"
     ]
    }
   ],
   "source": [
    "#now we sort through those indexes where there were user locations and store them in the city and state values\n",
    "#that we made earlier\n",
    "for x in where:\n",
    "    #get the data from user location\n",
    "    place = use.loc[x]['user-location']\n",
    "    #if there multiple values in the user-location separate these values\n",
    "    if ',' in place:\n",
    "        #split the values\n",
    "        s = place.split(',')\n",
    "        #check the lenght of the list\n",
    "        if len(s) == 2:\n",
    "            #if it's two check if the second one is the US, if it's not then it's a state and city value\n",
    "            if s[1] != ' US' or 'US':\n",
    "                #assign the values \n",
    "                city = s[0]\n",
    "                state = s[1]\n",
    "                #check the values for ones that we know are already messed up\n",
    "                if use.loc[x, 'city'] == 'Orange County' or \"San Gabriel Valley\":\n",
    "                    use.loc[x,'city'] = 'Los Angeles'\n",
    "                    use.loc[x,'state'] = 'California'\n",
    "                if use.loc[x,'city'] == 'Sonoma County':\n",
    "                    use.loc[x,'city'] = 'San Francisco'\n",
    "                    use.loc[x,'state'] = 'California'\n",
    "                #check the first value of city to see if there is a space, if there is one take the space out\n",
    "                else:\n",
    "                    if city[1] == ' ':\n",
    "                        use.loc[x,'city'] = city[1:]\n",
    "                    if state[1] == ' ':\n",
    "                        use.loc[x,'state'] = state[1:]\n",
    "                    else:\n",
    "                        use.loc[x,'city'] = city\n",
    "                        use.loc[x,'state'] = state\n",
    "            elif s[1] == ' US' or 'US':\n",
    "                state = s[0]\n",
    "                use.loc[x,'state'] = state\n",
    "    else:\n",
    "        if place == 'DC via Nigeria':\n",
    "            use.loc[x,'city'] = 'D.C.'\n",
    "            use.loc[x,'state'] = 'D.C.'\n",
    "        if place == 'City of Brotherly Love':\n",
    "            use.loc[x,'city'] = 'Philadelphia'\n",
    "            use.loc[x,'state'] = 'Pennsylvania'\n",
    "        if place == 'SOUTH PHILADELPHIA—':\n",
    "            use.loc[x,'city'] = 'Philadelphia'\n",
    "            use.loc[x,'state'] = 'Pennsylvania'"
   ]
  },
  {
   "cell_type": "code",
   "execution_count": null,
   "metadata": {},
   "outputs": [],
   "source": []
  }
 ],
 "metadata": {
  "kernelspec": {
   "display_name": "Python 3",
   "language": "python",
   "name": "python3"
  },
  "language_info": {
   "codemirror_mode": {
    "name": "ipython",
    "version": 3
   },
   "file_extension": ".py",
   "mimetype": "text/x-python",
   "name": "python",
   "nbconvert_exporter": "python",
   "pygments_lexer": "ipython3",
   "version": "3.7.4"
  }
 },
 "nbformat": 4,
 "nbformat_minor": 4
}
