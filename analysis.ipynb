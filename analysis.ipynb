{
 "cells": [
  {
   "cell_type": "code",
   "execution_count": 3,
   "metadata": {},
   "outputs": [],
   "source": [
    "import numpy as np \n",
    "import pandas as pd"
   ]
  },
  {
   "cell_type": "code",
   "execution_count": 4,
   "metadata": {},
   "outputs": [
    {
     "name": "stderr",
     "output_type": "stream",
     "text": [
      "/Users/samantharothman/opt/anaconda3/lib/python3.7/site-packages/IPython/core/interactiveshell.py:3058: DtypeWarning: Columns (0,8) have mixed types. Specify dtype option on import or set low_memory=False.\n",
      "  interactivity=interactivity, compiler=compiler, result=result)\n"
     ]
    }
   ],
   "source": [
    "df2 = pd.read_csv(\"/Users/samantharothman/Desktop/carmen/tweets-carmen/tweets2-carmen.csv\")"
   ]
  },
  {
   "cell_type": "code",
   "execution_count": 7,
   "metadata": {},
   "outputs": [
    {
     "data": {
      "text/html": [
       "<div>\n",
       "<style scoped>\n",
       "    .dataframe tbody tr th:only-of-type {\n",
       "        vertical-align: middle;\n",
       "    }\n",
       "\n",
       "    .dataframe tbody tr th {\n",
       "        vertical-align: top;\n",
       "    }\n",
       "\n",
       "    .dataframe thead th {\n",
       "        text-align: right;\n",
       "    }\n",
       "</style>\n",
       "<table border=\"1\" class=\"dataframe\">\n",
       "  <thead>\n",
       "    <tr style=\"text-align: right;\">\n",
       "      <th></th>\n",
       "      <th>Unnamed: 0</th>\n",
       "      <th>text</th>\n",
       "      <th>lang</th>\n",
       "      <th>user-location</th>\n",
       "      <th>place-country</th>\n",
       "      <th>place-country_code</th>\n",
       "      <th>location-coordinates</th>\n",
       "      <th>user-screen_name</th>\n",
       "      <th>retweet_number</th>\n",
       "      <th>hashtags</th>\n",
       "      <th>date</th>\n",
       "      <th>location1</th>\n",
       "      <th>location2</th>\n",
       "      <th>city</th>\n",
       "      <th>state</th>\n",
       "    </tr>\n",
       "  </thead>\n",
       "  <tbody>\n",
       "    <tr>\n",
       "      <td>0</td>\n",
       "      <td>0</td>\n",
       "      <td>Pope Francis' call for civil unions is a way t...</td>\n",
       "      <td>en</td>\n",
       "      <td>Chicago, IL</td>\n",
       "      <td>NaN</td>\n",
       "      <td>NaN</td>\n",
       "      <td>NaN</td>\n",
       "      <td>chitribopinions</td>\n",
       "      <td>0</td>\n",
       "      <td>None</td>\n",
       "      <td>Sun Oct 25 21:45:00 +0000 2020</td>\n",
       "      <td>(False, Location(country='United States', stat...</td>\n",
       "      <td>(False, Location(country='United States', stat...</td>\n",
       "      <td>Chicago</td>\n",
       "      <td>Illinois</td>\n",
       "    </tr>\n",
       "    <tr>\n",
       "      <td>1</td>\n",
       "      <td>1</td>\n",
       "      <td>I want to do what’s best. Yet I find myself wi...</td>\n",
       "      <td>en</td>\n",
       "      <td>Chicago, IL</td>\n",
       "      <td>NaN</td>\n",
       "      <td>NaN</td>\n",
       "      <td>NaN</td>\n",
       "      <td>chitribopinions</td>\n",
       "      <td>0</td>\n",
       "      <td>None</td>\n",
       "      <td>Sun Oct 25 20:30:00 +0000 2020</td>\n",
       "      <td>(False, Location(country='United States', stat...</td>\n",
       "      <td>(False, Location(country='United States', stat...</td>\n",
       "      <td>Chicago</td>\n",
       "      <td>Illinois</td>\n",
       "    </tr>\n",
       "    <tr>\n",
       "      <td>2</td>\n",
       "      <td>2</td>\n",
       "      <td>I get on Facebook to look at vacation and gard...</td>\n",
       "      <td>en</td>\n",
       "      <td>Chicago, IL</td>\n",
       "      <td>NaN</td>\n",
       "      <td>NaN</td>\n",
       "      <td>NaN</td>\n",
       "      <td>chitribopinions</td>\n",
       "      <td>0</td>\n",
       "      <td>None</td>\n",
       "      <td>Sun Oct 25 18:55:50 +0000 2020</td>\n",
       "      <td>(False, Location(country='United States', stat...</td>\n",
       "      <td>(False, Location(country='United States', stat...</td>\n",
       "      <td>Chicago</td>\n",
       "      <td>Illinois</td>\n",
       "    </tr>\n",
       "    <tr>\n",
       "      <td>3</td>\n",
       "      <td>3</td>\n",
       "      <td>Veteran journalist Carol Marin is leaving TV n...</td>\n",
       "      <td>en</td>\n",
       "      <td>Chicago, IL</td>\n",
       "      <td>NaN</td>\n",
       "      <td>NaN</td>\n",
       "      <td>NaN</td>\n",
       "      <td>chitribopinions</td>\n",
       "      <td>1</td>\n",
       "      <td>None</td>\n",
       "      <td>Sun Oct 25 17:22:38 +0000 2020</td>\n",
       "      <td>(False, Location(country='United States', stat...</td>\n",
       "      <td>(False, Location(country='United States', stat...</td>\n",
       "      <td>Chicago</td>\n",
       "      <td>Illinois</td>\n",
       "    </tr>\n",
       "    <tr>\n",
       "      <td>4</td>\n",
       "      <td>4</td>\n",
       "      <td>Illinois is the only state where justices on i...</td>\n",
       "      <td>en</td>\n",
       "      <td>Chicago, IL</td>\n",
       "      <td>NaN</td>\n",
       "      <td>NaN</td>\n",
       "      <td>NaN</td>\n",
       "      <td>chitribopinions</td>\n",
       "      <td>0</td>\n",
       "      <td>None</td>\n",
       "      <td>Sat Oct 24 01:15:00 +0000 2020</td>\n",
       "      <td>(False, Location(country='United States', stat...</td>\n",
       "      <td>(False, Location(country='United States', stat...</td>\n",
       "      <td>Chicago</td>\n",
       "      <td>Illinois</td>\n",
       "    </tr>\n",
       "  </tbody>\n",
       "</table>\n",
       "</div>"
      ],
      "text/plain": [
       "  Unnamed: 0                                               text lang  \\\n",
       "0          0  Pope Francis' call for civil unions is a way t...   en   \n",
       "1          1  I want to do what’s best. Yet I find myself wi...   en   \n",
       "2          2  I get on Facebook to look at vacation and gard...   en   \n",
       "3          3  Veteran journalist Carol Marin is leaving TV n...   en   \n",
       "4          4  Illinois is the only state where justices on i...   en   \n",
       "\n",
       "  user-location place-country place-country_code location-coordinates  \\\n",
       "0   Chicago, IL           NaN                NaN                  NaN   \n",
       "1   Chicago, IL           NaN                NaN                  NaN   \n",
       "2   Chicago, IL           NaN                NaN                  NaN   \n",
       "3   Chicago, IL           NaN                NaN                  NaN   \n",
       "4   Chicago, IL           NaN                NaN                  NaN   \n",
       "\n",
       "  user-screen_name retweet_number hashtags                            date  \\\n",
       "0  chitribopinions              0     None  Sun Oct 25 21:45:00 +0000 2020   \n",
       "1  chitribopinions              0     None  Sun Oct 25 20:30:00 +0000 2020   \n",
       "2  chitribopinions              0     None  Sun Oct 25 18:55:50 +0000 2020   \n",
       "3  chitribopinions              1     None  Sun Oct 25 17:22:38 +0000 2020   \n",
       "4  chitribopinions              0     None  Sat Oct 24 01:15:00 +0000 2020   \n",
       "\n",
       "                                           location1  \\\n",
       "0  (False, Location(country='United States', stat...   \n",
       "1  (False, Location(country='United States', stat...   \n",
       "2  (False, Location(country='United States', stat...   \n",
       "3  (False, Location(country='United States', stat...   \n",
       "4  (False, Location(country='United States', stat...   \n",
       "\n",
       "                                           location2     city     state  \n",
       "0  (False, Location(country='United States', stat...  Chicago  Illinois  \n",
       "1  (False, Location(country='United States', stat...  Chicago  Illinois  \n",
       "2  (False, Location(country='United States', stat...  Chicago  Illinois  \n",
       "3  (False, Location(country='United States', stat...  Chicago  Illinois  \n",
       "4  (False, Location(country='United States', stat...  Chicago  Illinois  "
      ]
     },
     "execution_count": 7,
     "metadata": {},
     "output_type": "execute_result"
    }
   ],
   "source": [
    "df2.head()"
   ]
  },
  {
   "cell_type": "code",
   "execution_count": 14,
   "metadata": {},
   "outputs": [],
   "source": [
    "cities = ['New York','Washington','Portland', 'Los Angeles','San Francisco', 'Boston', 'Chicago','Philadelphia', 'Springfield',\n",
    "'Austin','Salt Lake City','Seattle','Detroit','Phoenix', 'San Diego','Sacramento']  "
   ]
  },
  {
   "cell_type": "code",
   "execution_count": 15,
   "metadata": {},
   "outputs": [],
   "source": [
    "# tweets from new york \n",
    "\n",
    "nyc = df2[df2['city']=='New York']"
   ]
  },
  {
   "cell_type": "code",
   "execution_count": 21,
   "metadata": {},
   "outputs": [],
   "source": [
    "# see if tweets from new york have word protest\n",
    "nyc_protest = nyc[nyc['text'].str.contains(\"protest\")]"
   ]
  },
  {
   "cell_type": "code",
   "execution_count": 22,
   "metadata": {},
   "outputs": [
    {
     "data": {
      "text/html": [
       "<div>\n",
       "<style scoped>\n",
       "    .dataframe tbody tr th:only-of-type {\n",
       "        vertical-align: middle;\n",
       "    }\n",
       "\n",
       "    .dataframe tbody tr th {\n",
       "        vertical-align: top;\n",
       "    }\n",
       "\n",
       "    .dataframe thead th {\n",
       "        text-align: right;\n",
       "    }\n",
       "</style>\n",
       "<table border=\"1\" class=\"dataframe\">\n",
       "  <thead>\n",
       "    <tr style=\"text-align: right;\">\n",
       "      <th></th>\n",
       "      <th>Unnamed: 0</th>\n",
       "      <th>text</th>\n",
       "      <th>lang</th>\n",
       "      <th>user-location</th>\n",
       "      <th>place-country</th>\n",
       "      <th>place-country_code</th>\n",
       "      <th>location-coordinates</th>\n",
       "      <th>user-screen_name</th>\n",
       "      <th>retweet_number</th>\n",
       "      <th>hashtags</th>\n",
       "      <th>date</th>\n",
       "      <th>location1</th>\n",
       "      <th>location2</th>\n",
       "      <th>city</th>\n",
       "      <th>state</th>\n",
       "    </tr>\n",
       "  </thead>\n",
       "  <tbody>\n",
       "    <tr>\n",
       "      <td>86653</td>\n",
       "      <td>129050</td>\n",
       "      <td>RT @alicesperi: New from me: Portland reckons ...</td>\n",
       "      <td>en</td>\n",
       "      <td>New York, NY</td>\n",
       "      <td>NaN</td>\n",
       "      <td>NaN</td>\n",
       "      <td>NaN</td>\n",
       "      <td>theintercept</td>\n",
       "      <td>36</td>\n",
       "      <td>None</td>\n",
       "      <td>Sun Oct 25 23:02:16 +0000 2020</td>\n",
       "      <td>(False, Location(country='United States', stat...</td>\n",
       "      <td>(False, Location(country='United States', stat...</td>\n",
       "      <td>New York</td>\n",
       "      <td>New York</td>\n",
       "    </tr>\n",
       "    <tr>\n",
       "      <td>86656</td>\n",
       "      <td>129053</td>\n",
       "      <td>Witness testimony and a video reconstruction d...</td>\n",
       "      <td>en</td>\n",
       "      <td>New York, NY</td>\n",
       "      <td>NaN</td>\n",
       "      <td>NaN</td>\n",
       "      <td>NaN</td>\n",
       "      <td>theintercept</td>\n",
       "      <td>51</td>\n",
       "      <td>None</td>\n",
       "      <td>Sun Oct 25 19:55:02 +0000 2020</td>\n",
       "      <td>(False, Location(country='United States', stat...</td>\n",
       "      <td>(False, Location(country='United States', stat...</td>\n",
       "      <td>New York</td>\n",
       "      <td>New York</td>\n",
       "    </tr>\n",
       "    <tr>\n",
       "      <td>86662</td>\n",
       "      <td>129059</td>\n",
       "      <td>Portland reckons with police attacks on protes...</td>\n",
       "      <td>en</td>\n",
       "      <td>New York, NY</td>\n",
       "      <td>NaN</td>\n",
       "      <td>NaN</td>\n",
       "      <td>NaN</td>\n",
       "      <td>theintercept</td>\n",
       "      <td>32</td>\n",
       "      <td>None</td>\n",
       "      <td>Sun Oct 25 13:05:34 +0000 2020</td>\n",
       "      <td>(False, Location(country='United States', stat...</td>\n",
       "      <td>(False, Location(country='United States', stat...</td>\n",
       "      <td>New York</td>\n",
       "      <td>New York</td>\n",
       "    </tr>\n",
       "    <tr>\n",
       "      <td>86760</td>\n",
       "      <td>129157</td>\n",
       "      <td>Department of Homeland Security sued for using...</td>\n",
       "      <td>en</td>\n",
       "      <td>New York, NY</td>\n",
       "      <td>NaN</td>\n",
       "      <td>NaN</td>\n",
       "      <td>NaN</td>\n",
       "      <td>theintercept</td>\n",
       "      <td>78</td>\n",
       "      <td>None</td>\n",
       "      <td>Wed Oct 21 13:08:29 +0000 2020</td>\n",
       "      <td>(False, Location(country='United States', stat...</td>\n",
       "      <td>(False, Location(country='United States', stat...</td>\n",
       "      <td>New York</td>\n",
       "      <td>New York</td>\n",
       "    </tr>\n",
       "    <tr>\n",
       "      <td>86767</td>\n",
       "      <td>129164</td>\n",
       "      <td>The suit lays out evidence that, in addition t...</td>\n",
       "      <td>en</td>\n",
       "      <td>New York, NY</td>\n",
       "      <td>NaN</td>\n",
       "      <td>NaN</td>\n",
       "      <td>NaN</td>\n",
       "      <td>theintercept</td>\n",
       "      <td>116</td>\n",
       "      <td>None</td>\n",
       "      <td>Wed Oct 21 03:54:23 +0000 2020</td>\n",
       "      <td>(False, Location(country='United States', stat...</td>\n",
       "      <td>(False, Location(country='United States', stat...</td>\n",
       "      <td>New York</td>\n",
       "      <td>New York</td>\n",
       "    </tr>\n",
       "    <tr>\n",
       "      <td>...</td>\n",
       "      <td>...</td>\n",
       "      <td>...</td>\n",
       "      <td>...</td>\n",
       "      <td>...</td>\n",
       "      <td>...</td>\n",
       "      <td>...</td>\n",
       "      <td>...</td>\n",
       "      <td>...</td>\n",
       "      <td>...</td>\n",
       "      <td>...</td>\n",
       "      <td>...</td>\n",
       "      <td>...</td>\n",
       "      <td>...</td>\n",
       "      <td>...</td>\n",
       "      <td>...</td>\n",
       "    </tr>\n",
       "    <tr>\n",
       "      <td>162818</td>\n",
       "      <td>277168</td>\n",
       "      <td>@RaquelWillis_ Right? Put down your mimosa and...</td>\n",
       "      <td>en</td>\n",
       "      <td>New York, NY</td>\n",
       "      <td>NaN</td>\n",
       "      <td>NaN</td>\n",
       "      <td>NaN</td>\n",
       "      <td>1demerith</td>\n",
       "      <td>2</td>\n",
       "      <td>None</td>\n",
       "      <td>Mon Jun 01 16:01:35 +0000 2020</td>\n",
       "      <td>(False, Location(country='United States', stat...</td>\n",
       "      <td>(False, Location(country='United States', stat...</td>\n",
       "      <td>New York</td>\n",
       "      <td>New York</td>\n",
       "    </tr>\n",
       "    <tr>\n",
       "      <td>162827</td>\n",
       "      <td>277177</td>\n",
       "      <td>RT @vulture: “During a protest at Harvard, Jos...</td>\n",
       "      <td>en</td>\n",
       "      <td>New York, NY</td>\n",
       "      <td>NaN</td>\n",
       "      <td>NaN</td>\n",
       "      <td>NaN</td>\n",
       "      <td>1demerith</td>\n",
       "      <td>2</td>\n",
       "      <td>None</td>\n",
       "      <td>Mon Jun 01 11:24:24 +0000 2020</td>\n",
       "      <td>(False, Location(country='United States', stat...</td>\n",
       "      <td>(False, Location(country='United States', stat...</td>\n",
       "      <td>New York</td>\n",
       "      <td>New York</td>\n",
       "    </tr>\n",
       "    <tr>\n",
       "      <td>162836</td>\n",
       "      <td>277186</td>\n",
       "      <td>Trying to find cardboard to make a protest sig...</td>\n",
       "      <td>en</td>\n",
       "      <td>New York, NY</td>\n",
       "      <td>NaN</td>\n",
       "      <td>NaN</td>\n",
       "      <td>NaN</td>\n",
       "      <td>1demerith</td>\n",
       "      <td>0</td>\n",
       "      <td>None</td>\n",
       "      <td>Sun May 31 14:19:02 +0000 2020</td>\n",
       "      <td>(False, Location(country='United States', stat...</td>\n",
       "      <td>(False, Location(country='United States', stat...</td>\n",
       "      <td>New York</td>\n",
       "      <td>New York</td>\n",
       "    </tr>\n",
       "    <tr>\n",
       "      <td>163949</td>\n",
       "      <td>278299</td>\n",
       "      <td>Yes, publishing and protests, two of my favori...</td>\n",
       "      <td>en</td>\n",
       "      <td>New York, NY</td>\n",
       "      <td>NaN</td>\n",
       "      <td>NaN</td>\n",
       "      <td>NaN</td>\n",
       "      <td>1demerith</td>\n",
       "      <td>1</td>\n",
       "      <td>None</td>\n",
       "      <td>Thu Mar 05 22:22:04 +0000 2020</td>\n",
       "      <td>(False, Location(country='United States', stat...</td>\n",
       "      <td>(False, Location(country='United States', stat...</td>\n",
       "      <td>New York</td>\n",
       "      <td>New York</td>\n",
       "    </tr>\n",
       "    <tr>\n",
       "      <td>178217</td>\n",
       "      <td>295739</td>\n",
       "      <td>🙌🏾✊🏾#protest #for #what is #right #georgefloyd...</td>\n",
       "      <td>und</td>\n",
       "      <td>NYC 🗽</td>\n",
       "      <td>NaN</td>\n",
       "      <td>NaN</td>\n",
       "      <td>NaN</td>\n",
       "      <td>RecioeMontana</td>\n",
       "      <td>0</td>\n",
       "      <td>['protest', 'for', 'what', 'right', 'georgeflo...</td>\n",
       "      <td>Tue Jun 02 20:14:07 +0000 2020</td>\n",
       "      <td>(False, Location(country='United States', stat...</td>\n",
       "      <td>(False, Location(country='United States', stat...</td>\n",
       "      <td>New York</td>\n",
       "      <td>New York</td>\n",
       "    </tr>\n",
       "  </tbody>\n",
       "</table>\n",
       "<p>182 rows × 15 columns</p>\n",
       "</div>"
      ],
      "text/plain": [
       "       Unnamed: 0                                               text lang  \\\n",
       "86653      129050  RT @alicesperi: New from me: Portland reckons ...   en   \n",
       "86656      129053  Witness testimony and a video reconstruction d...   en   \n",
       "86662      129059  Portland reckons with police attacks on protes...   en   \n",
       "86760      129157  Department of Homeland Security sued for using...   en   \n",
       "86767      129164  The suit lays out evidence that, in addition t...   en   \n",
       "...           ...                                                ...  ...   \n",
       "162818     277168  @RaquelWillis_ Right? Put down your mimosa and...   en   \n",
       "162827     277177  RT @vulture: “During a protest at Harvard, Jos...   en   \n",
       "162836     277186  Trying to find cardboard to make a protest sig...   en   \n",
       "163949     278299  Yes, publishing and protests, two of my favori...   en   \n",
       "178217     295739  🙌🏾✊🏾#protest #for #what is #right #georgefloyd...  und   \n",
       "\n",
       "       user-location place-country place-country_code location-coordinates  \\\n",
       "86653   New York, NY           NaN                NaN                  NaN   \n",
       "86656   New York, NY           NaN                NaN                  NaN   \n",
       "86662   New York, NY           NaN                NaN                  NaN   \n",
       "86760   New York, NY           NaN                NaN                  NaN   \n",
       "86767   New York, NY           NaN                NaN                  NaN   \n",
       "...              ...           ...                ...                  ...   \n",
       "162818  New York, NY           NaN                NaN                  NaN   \n",
       "162827  New York, NY           NaN                NaN                  NaN   \n",
       "162836  New York, NY           NaN                NaN                  NaN   \n",
       "163949  New York, NY           NaN                NaN                  NaN   \n",
       "178217         NYC 🗽           NaN                NaN                  NaN   \n",
       "\n",
       "       user-screen_name retweet_number  \\\n",
       "86653      theintercept             36   \n",
       "86656      theintercept             51   \n",
       "86662      theintercept             32   \n",
       "86760      theintercept             78   \n",
       "86767      theintercept            116   \n",
       "...                 ...            ...   \n",
       "162818        1demerith              2   \n",
       "162827        1demerith              2   \n",
       "162836        1demerith              0   \n",
       "163949        1demerith              1   \n",
       "178217    RecioeMontana              0   \n",
       "\n",
       "                                                 hashtags  \\\n",
       "86653                                                None   \n",
       "86656                                                None   \n",
       "86662                                                None   \n",
       "86760                                                None   \n",
       "86767                                                None   \n",
       "...                                                   ...   \n",
       "162818                                               None   \n",
       "162827                                               None   \n",
       "162836                                               None   \n",
       "163949                                               None   \n",
       "178217  ['protest', 'for', 'what', 'right', 'georgeflo...   \n",
       "\n",
       "                                  date  \\\n",
       "86653   Sun Oct 25 23:02:16 +0000 2020   \n",
       "86656   Sun Oct 25 19:55:02 +0000 2020   \n",
       "86662   Sun Oct 25 13:05:34 +0000 2020   \n",
       "86760   Wed Oct 21 13:08:29 +0000 2020   \n",
       "86767   Wed Oct 21 03:54:23 +0000 2020   \n",
       "...                                ...   \n",
       "162818  Mon Jun 01 16:01:35 +0000 2020   \n",
       "162827  Mon Jun 01 11:24:24 +0000 2020   \n",
       "162836  Sun May 31 14:19:02 +0000 2020   \n",
       "163949  Thu Mar 05 22:22:04 +0000 2020   \n",
       "178217  Tue Jun 02 20:14:07 +0000 2020   \n",
       "\n",
       "                                                location1  \\\n",
       "86653   (False, Location(country='United States', stat...   \n",
       "86656   (False, Location(country='United States', stat...   \n",
       "86662   (False, Location(country='United States', stat...   \n",
       "86760   (False, Location(country='United States', stat...   \n",
       "86767   (False, Location(country='United States', stat...   \n",
       "...                                                   ...   \n",
       "162818  (False, Location(country='United States', stat...   \n",
       "162827  (False, Location(country='United States', stat...   \n",
       "162836  (False, Location(country='United States', stat...   \n",
       "163949  (False, Location(country='United States', stat...   \n",
       "178217  (False, Location(country='United States', stat...   \n",
       "\n",
       "                                                location2      city     state  \n",
       "86653   (False, Location(country='United States', stat...  New York  New York  \n",
       "86656   (False, Location(country='United States', stat...  New York  New York  \n",
       "86662   (False, Location(country='United States', stat...  New York  New York  \n",
       "86760   (False, Location(country='United States', stat...  New York  New York  \n",
       "86767   (False, Location(country='United States', stat...  New York  New York  \n",
       "...                                                   ...       ...       ...  \n",
       "162818  (False, Location(country='United States', stat...  New York  New York  \n",
       "162827  (False, Location(country='United States', stat...  New York  New York  \n",
       "162836  (False, Location(country='United States', stat...  New York  New York  \n",
       "163949  (False, Location(country='United States', stat...  New York  New York  \n",
       "178217  (False, Location(country='United States', stat...  New York  New York  \n",
       "\n",
       "[182 rows x 15 columns]"
      ]
     },
     "execution_count": 22,
     "metadata": {},
     "output_type": "execute_result"
    }
   ],
   "source": [
    "nyc_protest"
   ]
  },
  {
   "cell_type": "code",
   "execution_count": 33,
   "metadata": {},
   "outputs": [
    {
     "name": "stderr",
     "output_type": "stream",
     "text": [
      "/Users/samantharothman/opt/anaconda3/lib/python3.7/site-packages/ipykernel_launcher.py:2: SettingWithCopyWarning: \n",
      "A value is trying to be set on a copy of a slice from a DataFrame.\n",
      "Try using .loc[row_indexer,col_indexer] = value instead\n",
      "\n",
      "See the caveats in the documentation: http://pandas.pydata.org/pandas-docs/stable/user_guide/indexing.html#returning-a-view-versus-a-copy\n",
      "  \n"
     ]
    }
   ],
   "source": [
    "import datetime as dt\n",
    "nyc_protest['date'] = pd.to_datetime(nyc_protest['date'])"
   ]
  },
  {
   "cell_type": "code",
   "execution_count": 36,
   "metadata": {},
   "outputs": [
    {
     "name": "stderr",
     "output_type": "stream",
     "text": [
      "/Users/samantharothman/opt/anaconda3/lib/python3.7/site-packages/ipykernel_launcher.py:1: SettingWithCopyWarning: \n",
      "A value is trying to be set on a copy of a slice from a DataFrame.\n",
      "Try using .loc[row_indexer,col_indexer] = value instead\n",
      "\n",
      "See the caveats in the documentation: http://pandas.pydata.org/pandas-docs/stable/user_guide/indexing.html#returning-a-view-versus-a-copy\n",
      "  \"\"\"Entry point for launching an IPython kernel.\n"
     ]
    }
   ],
   "source": [
    "nyc_protest['date2'] = nyc_protest['date'].dt.date"
   ]
  },
  {
   "cell_type": "code",
   "execution_count": 49,
   "metadata": {},
   "outputs": [
    {
     "data": {
      "text/plain": [
       "datetime.date(2020, 7, 10)"
      ]
     },
     "execution_count": 49,
     "metadata": {},
     "output_type": "execute_result"
    }
   ],
   "source": [
    "nyc_protest.groupby(\"date2\").size().idxmax()"
   ]
  },
  {
   "cell_type": "code",
   "execution_count": null,
   "metadata": {},
   "outputs": [],
   "source": [
    "# nyc most likely had a protest on 7/10/20?"
   ]
  },
  {
   "cell_type": "code",
   "execution_count": 9,
   "metadata": {},
   "outputs": [],
   "source": [
    "df1 = pd.read_csv(\"/Users/samantharothman/Desktop/carmen/tweets-carmen/tweets-carmen.csv\")"
   ]
  },
  {
   "cell_type": "code",
   "execution_count": 6,
   "metadata": {},
   "outputs": [],
   "source": [
    "df3 = pd.read_csv(\"/Users/samantharothman/Desktop/carmen/tweets-carmen/tweets3-carmen.csv\")"
   ]
  },
  {
   "cell_type": "code",
   "execution_count": 7,
   "metadata": {},
   "outputs": [],
   "source": [
    "df4 = pd.read_csv(\"/Users/samantharothman/Desktop/carmen/tweets-carmen/tweets4-carmen.csv\")"
   ]
  },
  {
   "cell_type": "code",
   "execution_count": 8,
   "metadata": {},
   "outputs": [],
   "source": [
    "df5 = pd.read_csv(\"/Users/samantharothman/Desktop/carmen/tweets-carmen/tweets5-carmen.csv\")"
   ]
  },
  {
   "cell_type": "code",
   "execution_count": 10,
   "metadata": {},
   "outputs": [
    {
     "name": "stderr",
     "output_type": "stream",
     "text": [
      "/Users/samantharothman/opt/anaconda3/lib/python3.7/site-packages/IPython/core/interactiveshell.py:3058: DtypeWarning: Columns (4,5,6) have mixed types. Specify dtype option on import or set low_memory=False.\n",
      "  interactivity=interactivity, compiler=compiler, result=result)\n"
     ]
    }
   ],
   "source": [
    "df6 = pd.read_csv(\"/Users/samantharothman/Desktop/carmen/tweets-carmen/tweets6-carmen.csv\")"
   ]
  },
  {
   "cell_type": "code",
   "execution_count": 11,
   "metadata": {},
   "outputs": [],
   "source": [
    "df7 = pd.read_csv(\"/Users/samantharothman/Desktop/carmen/tweets-carmen/tweets7-carmen.csv\")"
   ]
  },
  {
   "cell_type": "code",
   "execution_count": 12,
   "metadata": {},
   "outputs": [],
   "source": [
    "df8 = pd.read_csv(\"/Users/samantharothman/Desktop/carmen/tweets-carmen/tweets8-carmen.csv\")"
   ]
  },
  {
   "cell_type": "code",
   "execution_count": 13,
   "metadata": {},
   "outputs": [],
   "source": [
    "df9 = pd.read_csv(\"/Users/samantharothman/Desktop/carmen/tweets-carmen/tweets9-carmen.csv\")"
   ]
  },
  {
   "cell_type": "code",
   "execution_count": 14,
   "metadata": {},
   "outputs": [],
   "source": [
    "all_df = [df1, df2, df3, df4, df5, df6, df7, df8, df9]"
   ]
  },
  {
   "cell_type": "code",
   "execution_count": 15,
   "metadata": {},
   "outputs": [],
   "source": [
    "all_tweets = pd.concat(all_df)"
   ]
  },
  {
   "cell_type": "code",
   "execution_count": 16,
   "metadata": {},
   "outputs": [
    {
     "data": {
      "text/plain": [
       "20141010"
      ]
     },
     "execution_count": 16,
     "metadata": {},
     "output_type": "execute_result"
    }
   ],
   "source": [
    "all_tweets.size"
   ]
  },
  {
   "cell_type": "code",
   "execution_count": 19,
   "metadata": {},
   "outputs": [
    {
     "data": {
      "text/plain": [
       "20141010"
      ]
     },
     "execution_count": 19,
     "metadata": {},
     "output_type": "execute_result"
    }
   ],
   "source": [
    "df2.size + df1.size + df3.size + df4.size + df5.size+ df6.size + df7.size + df8.size + df9.size"
   ]
  },
  {
   "cell_type": "code",
   "execution_count": null,
   "metadata": {},
   "outputs": [],
   "source": []
  }
 ],
 "metadata": {
  "kernelspec": {
   "display_name": "Python 3",
   "language": "python",
   "name": "python3"
  },
  "language_info": {
   "codemirror_mode": {
    "name": "ipython",
    "version": 3
   },
   "file_extension": ".py",
   "mimetype": "text/x-python",
   "name": "python",
   "nbconvert_exporter": "python",
   "pygments_lexer": "ipython3",
   "version": "3.7.4"
  }
 },
 "nbformat": 4,
 "nbformat_minor": 2
}
